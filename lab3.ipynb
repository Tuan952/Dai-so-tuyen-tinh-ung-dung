{
 "cells": [
  {
   "cell_type": "markdown",
   "id": "0c5b1786",
   "metadata": {},
   "source": [
    "# CHƯƠNG 3: MA TRẬN VÀ HỆ PHƯƠNG TRÌNH TUYẾN TÍNH"
   ]
  },
  {
   "cell_type": "markdown",
   "id": "ed735943",
   "metadata": {},
   "source": [
    "### 1. Tóm tắt một số phép xử lý ma trận của NumPy và Scipy "
   ]
  },
  {
   "cell_type": "markdown",
   "id": "9bd614f6",
   "metadata": {},
   "source": [
    "##### 1.1. Một số phép xử lý ma trận của NumPy và Scipy "
   ]
  },
  {
   "cell_type": "markdown",
   "id": "f416289e",
   "metadata": {},
   "source": [
    "- Khởi tạo ma trận: "
   ]
  },
  {
   "cell_type": "code",
   "execution_count": 9,
   "id": "fdaa3d0a",
   "metadata": {},
   "outputs": [],
   "source": [
    "from scipy import linalg # Tải gói linalg của scipy vào bộ nhớ (để sử dụng)\n",
    "import numpy as np # Tải gói numpy vào sử dụng với tên gọi là np\n",
    "# [Ôn tập một số lệnh đã học]\n",
    "a = np.array([1, 2, 3])\n",
    "b = np.array([(1+9j, 2j, 3j), (4j, 5j, 6j)]) # số phức\n",
    "c = np.array([[ (0.5, 1.5, 10), (3,2,1) ] , [(6,5,4), (7,8,9)]]) # ma trận số thực\n",
    "# Các kiểu khai báo và khởi tạo ma trận:\n",
    "A = np.matrix(np.random.random( (2,2) ) )\n",
    "B = np.asmatrix(b) # Chuyển b thành dạng ma trận\n",
    "C = np.mat(np.random.random( (10,5) ) )\n",
    "D = np.mat([ [4, 3], [2, 6] ])\n",
    "F = np.eye(3, k=1) # tạo ma trận đường chéo. 3 là ma trận 3x3, k=1 là đường chéo nằm phía trên đường chéo chính (k = 0). "
   ]
  },
  {
   "cell_type": "code",
   "execution_count": 3,
   "id": "48dd07ba",
   "metadata": {},
   "outputs": [
    {
     "data": {
      "text/plain": [
       "matrix([[0.98818235, 0.32287671],\n",
       "        [0.80812783, 0.12635926]])"
      ]
     },
     "execution_count": 3,
     "metadata": {},
     "output_type": "execute_result"
    }
   ],
   "source": [
    "A"
   ]
  },
  {
   "cell_type": "code",
   "execution_count": 4,
   "id": "b69f0f0c",
   "metadata": {},
   "outputs": [
    {
     "data": {
      "text/plain": [
       "matrix([[1.+9.j, 0.+2.j, 0.+3.j],\n",
       "        [0.+4.j, 0.+5.j, 0.+6.j]])"
      ]
     },
     "execution_count": 4,
     "metadata": {},
     "output_type": "execute_result"
    }
   ],
   "source": [
    "B"
   ]
  },
  {
   "cell_type": "code",
   "execution_count": 5,
   "id": "9cf9fb6d",
   "metadata": {},
   "outputs": [
    {
     "data": {
      "text/plain": [
       "matrix([[8.36581900e-01, 6.35185886e-01, 5.47179015e-02, 9.55055523e-01,\n",
       "         1.81494271e-01],\n",
       "        [4.24818167e-01, 8.07150886e-01, 9.72320214e-01, 3.75019925e-01,\n",
       "         4.87528817e-01],\n",
       "        [5.01544006e-01, 1.46608181e-01, 1.17151443e-01, 9.00808042e-01,\n",
       "         5.62607654e-01],\n",
       "        [8.17682166e-01, 6.80733308e-01, 6.26658230e-02, 9.73425406e-01,\n",
       "         5.68237027e-02],\n",
       "        [8.95271869e-05, 9.63945449e-01, 9.28971021e-01, 6.24118085e-01,\n",
       "         3.97582557e-01],\n",
       "        [7.05842762e-01, 6.37922335e-01, 3.93422959e-01, 4.18309278e-01,\n",
       "         6.73805671e-01],\n",
       "        [5.81755789e-01, 5.83237582e-01, 8.32696893e-01, 3.99618732e-01,\n",
       "         3.77338002e-01],\n",
       "        [7.20702163e-01, 1.42142652e-01, 6.90711313e-01, 5.15478407e-01,\n",
       "         5.14238373e-01],\n",
       "        [4.06984056e-01, 5.57830405e-01, 2.51359302e-01, 2.71809404e-01,\n",
       "         3.12409474e-01],\n",
       "        [7.20910496e-01, 2.56025086e-01, 1.08294832e-01, 6.81044926e-01,\n",
       "         9.10446480e-01]])"
      ]
     },
     "execution_count": 5,
     "metadata": {},
     "output_type": "execute_result"
    }
   ],
   "source": [
    "C"
   ]
  },
  {
   "cell_type": "code",
   "execution_count": 6,
   "id": "059c4247",
   "metadata": {},
   "outputs": [
    {
     "data": {
      "text/plain": [
       "matrix([[4, 3],\n",
       "        [2, 6]])"
      ]
     },
     "execution_count": 6,
     "metadata": {},
     "output_type": "execute_result"
    }
   ],
   "source": [
    "D"
   ]
  },
  {
   "cell_type": "code",
   "execution_count": 8,
   "id": "5dbe3514",
   "metadata": {},
   "outputs": [
    {
     "data": {
      "text/plain": [
       "array([[0., 1., 0.],\n",
       "       [0., 0., 1.],\n",
       "       [0., 0., 0.]])"
      ]
     },
     "execution_count": 8,
     "metadata": {},
     "output_type": "execute_result"
    }
   ],
   "source": [
    "F"
   ]
  },
  {
   "cell_type": "code",
   "execution_count": 11,
   "id": "93e57b2f",
   "metadata": {},
   "outputs": [
    {
     "data": {
      "text/plain": [
       "array([[1., 0., 0.],\n",
       "       [0., 1., 0.],\n",
       "       [0., 0., 1.]])"
      ]
     },
     "execution_count": 11,
     "metadata": {},
     "output_type": "execute_result"
    }
   ],
   "source": [
    "F = np.eye(3, k=0)\n",
    "F"
   ]
  },
  {
   "cell_type": "code",
   "execution_count": 13,
   "id": "5cf0a888",
   "metadata": {},
   "outputs": [
    {
     "data": {
      "text/plain": [
       "array([[0., 0., 0.],\n",
       "       [1., 0., 0.],\n",
       "       [0., 1., 0.]])"
      ]
     },
     "execution_count": 13,
     "metadata": {},
     "output_type": "execute_result"
    }
   ],
   "source": [
    "F = np.eye(3, k=-1)\n",
    "F"
   ]
  },
  {
   "cell_type": "markdown",
   "id": "947cbf60",
   "metadata": {},
   "source": [
    "- Các phép xử lý đơn giản"
   ]
  },
  {
   "cell_type": "code",
   "execution_count": 15,
   "id": "16585252",
   "metadata": {},
   "outputs": [
    {
     "data": {
      "text/plain": [
       "5"
      ]
     },
     "execution_count": 15,
     "metadata": {},
     "output_type": "execute_result"
    }
   ],
   "source": [
    "# Xem hạng ma trận:\n",
    "np.linalg.matrix_rank(C) "
   ]
  },
  {
   "cell_type": "code",
   "execution_count": 16,
   "id": "3d64213c",
   "metadata": {},
   "outputs": [
    {
     "data": {
      "text/plain": [
       "matrix([[ -4.97488685,  12.2214234 ],\n",
       "        [ 11.69130534, -23.72649649]])"
      ]
     },
     "execution_count": 16,
     "metadata": {},
     "output_type": "execute_result"
    }
   ],
   "source": [
    "# Tính ma trận nghịch đảo:\n",
    "A.I "
   ]
  },
  {
   "cell_type": "code",
   "execution_count": 17,
   "id": "54410a8a",
   "metadata": {},
   "outputs": [
    {
     "data": {
      "text/plain": [
       "array([[ -4.97488685,  12.2214234 ],\n",
       "       [ 11.69130534, -23.72649649]])"
      ]
     },
     "execution_count": 17,
     "metadata": {},
     "output_type": "execute_result"
    }
   ],
   "source": [
    "linalg.inv(A) # đây là lệnh của gói scipy, nên có thể sử dụng scipy.linalg.inv(A) "
   ]
  },
  {
   "cell_type": "code",
   "execution_count": 18,
   "id": "be037c2f",
   "metadata": {},
   "outputs": [
    {
     "data": {
      "text/plain": [
       "-0.04024508094291934"
      ]
     },
     "execution_count": 18,
     "metadata": {},
     "output_type": "execute_result"
    }
   ],
   "source": [
    "# Định thức ma trận:\n",
    "linalg.det(A)"
   ]
  },
  {
   "cell_type": "code",
   "execution_count": 19,
   "id": "9d95c949",
   "metadata": {},
   "outputs": [
    {
     "data": {
      "text/plain": [
       "matrix([[0.95487477, 0.47051753],\n",
       "        [0.49185217, 0.20021472]])"
      ]
     },
     "execution_count": 19,
     "metadata": {},
     "output_type": "execute_result"
    }
   ],
   "source": [
    "# Chuyển đổi ma trận:\n",
    "A.T # chuyển vị (dòng <-> cột) "
   ]
  },
  {
   "cell_type": "code",
   "execution_count": 20,
   "id": "d83b7175",
   "metadata": {},
   "outputs": [
    {
     "data": {
      "text/plain": [
       "matrix([[0.95487477, 0.47051753],\n",
       "        [0.49185217, 0.20021472]])"
      ]
     },
     "execution_count": 20,
     "metadata": {},
     "output_type": "execute_result"
    }
   ],
   "source": [
    "A.H # chuyển vị liên hợp "
   ]
  },
  {
   "cell_type": "markdown",
   "id": "1d388181",
   "metadata": {},
   "source": [
    "- Giải các loại phương trình tuyến tính: "
   ]
  },
  {
   "cell_type": "code",
   "execution_count": 21,
   "id": "38c1d707",
   "metadata": {},
   "outputs": [
    {
     "data": {
      "text/plain": [
       "array([[-4.97488685  +4.11171192j,  0.         +51.15734328j,\n",
       "         0.         +58.40387983j],\n",
       "       [11.69130534 +10.31576211j,  0.         -95.24987175j,\n",
       "         0.        -107.2850629j ]])"
      ]
     },
     "execution_count": 21,
     "metadata": {},
     "output_type": "execute_result"
    }
   ],
   "source": [
    "linalg.solve(A, b)"
   ]
  },
  {
   "cell_type": "code",
   "execution_count": 23,
   "id": "63adaac8",
   "metadata": {},
   "outputs": [
    {
     "data": {
      "text/plain": [
       "matrix([[1],\n",
       "        [2],\n",
       "        [3]])"
      ]
     },
     "execution_count": 23,
     "metadata": {},
     "output_type": "execute_result"
    }
   ],
   "source": [
    "E = np.mat(a).T\n",
    "E"
   ]
  },
  {
   "cell_type": "code",
   "execution_count": 24,
   "id": "2bd2aba8",
   "metadata": {},
   "outputs": [
    {
     "data": {
      "text/plain": [
       "(array([[0.],\n",
       "        [1.],\n",
       "        [2.]]),\n",
       " array([], dtype=float64),\n",
       " 2,\n",
       " array([1., 1., 0.]))"
      ]
     },
     "execution_count": 24,
     "metadata": {},
     "output_type": "execute_result"
    }
   ],
   "source": [
    "linalg.lstsq(F, E)"
   ]
  },
  {
   "cell_type": "markdown",
   "id": "994a0fd3",
   "metadata": {},
   "source": [
    "- Các hàm trên ma trận "
   ]
  },
  {
   "cell_type": "code",
   "execution_count": 25,
   "id": "6464ac7f",
   "metadata": {},
   "outputs": [
    {
     "data": {
      "text/plain": [
       "matrix([[4.95487477, 3.49185217],\n",
       "        [2.47051753, 6.20021472]])"
      ]
     },
     "execution_count": 25,
     "metadata": {},
     "output_type": "execute_result"
    }
   ],
   "source": [
    "# Cộng ma trận:\n",
    "np.add(A, D)"
   ]
  },
  {
   "cell_type": "code",
   "execution_count": 26,
   "id": "70cb4e61",
   "metadata": {},
   "outputs": [
    {
     "data": {
      "text/plain": [
       "matrix([[-3.04512523, -2.50814783],\n",
       "        [-1.52948247, -5.79978528]])"
      ]
     },
     "execution_count": 26,
     "metadata": {},
     "output_type": "execute_result"
    }
   ],
   "source": [
    "# Trừ ma trận:\n",
    "np.subtract(A, D) "
   ]
  },
  {
   "cell_type": "code",
   "execution_count": 27,
   "id": "04accc44",
   "metadata": {},
   "outputs": [
    {
     "data": {
      "text/plain": [
       "matrix([[0.23871869, 0.16395072],\n",
       "        [0.23525876, 0.03336912]])"
      ]
     },
     "execution_count": 27,
     "metadata": {},
     "output_type": "execute_result"
    }
   ],
   "source": [
    "# Chia ma trận:\n",
    "np.divide(A, D)"
   ]
  },
  {
   "cell_type": "code",
   "execution_count": 28,
   "id": "b43756db",
   "metadata": {},
   "outputs": [
    {
     "data": {
      "text/plain": [
       "matrix([[4.80320343, 5.81573736],\n",
       "        [2.28249957, 2.61284093]])"
      ]
     },
     "execution_count": 28,
     "metadata": {},
     "output_type": "execute_result"
    }
   ],
   "source": [
    "# Nhân ma trận:\n",
    "A @ D"
   ]
  },
  {
   "cell_type": "code",
   "execution_count": 29,
   "id": "8feea8e3",
   "metadata": {},
   "outputs": [
    {
     "data": {
      "text/plain": [
       "matrix([[3.81949909, 1.47555652],\n",
       "        [0.94103506, 1.20128834]])"
      ]
     },
     "execution_count": 29,
     "metadata": {},
     "output_type": "execute_result"
    }
   ],
   "source": [
    "np.multiply(D, A)"
   ]
  },
  {
   "cell_type": "code",
   "execution_count": 30,
   "id": "e1bc6f3d",
   "metadata": {},
   "outputs": [
    {
     "data": {
      "text/plain": [
       "matrix([[4.80320343, 5.81573736],\n",
       "        [2.28249957, 2.61284093]])"
      ]
     },
     "execution_count": 30,
     "metadata": {},
     "output_type": "execute_result"
    }
   ],
   "source": [
    "np.dot(A, D)"
   ]
  },
  {
   "cell_type": "code",
   "execution_count": 31,
   "id": "f35ba171",
   "metadata": {},
   "outputs": [
    {
     "data": {
      "text/plain": [
       "matrix([[3.81949909]])"
      ]
     },
     "execution_count": 31,
     "metadata": {},
     "output_type": "execute_result"
    }
   ],
   "source": [
    "np.vdot(A, D)"
   ]
  },
  {
   "cell_type": "code",
   "execution_count": 32,
   "id": "f4132139",
   "metadata": {},
   "outputs": [
    {
     "data": {
      "text/plain": [
       "array([[2.84010236, 0.93193691],\n",
       "       [0.89151309, 1.41021024]])"
      ]
     },
     "execution_count": 32,
     "metadata": {},
     "output_type": "execute_result"
    }
   ],
   "source": [
    "# Hàm lũy thừa và logarith ma trận:\n",
    "linalg.expm(A)"
   ]
  },
  {
   "cell_type": "code",
   "execution_count": 33,
   "id": "0e08a69d",
   "metadata": {},
   "outputs": [
    {
     "data": {
      "text/plain": [
       "array([[-0.50817586+0.60135877j,  1.43152123-1.26366824j],\n",
       "       [ 1.36942738-1.2088552j , -2.70459164+2.54023388j]])"
      ]
     },
     "execution_count": 33,
     "metadata": {},
     "output_type": "execute_result"
    }
   ],
   "source": [
    "linalg.logm(A)"
   ]
  },
  {
   "cell_type": "markdown",
   "id": "e3777ee4",
   "metadata": {},
   "source": [
    "### 2. Tích (nhân) ma trận với ma trận "
   ]
  },
  {
   "cell_type": "markdown",
   "id": "9274e628",
   "metadata": {},
   "source": [
    "##### 2.3. Ma trận hội tụ "
   ]
  },
  {
   "cell_type": "markdown",
   "id": "4399bd17",
   "metadata": {},
   "source": [
    "- Ma trận phân kỳ: "
   ]
  },
  {
   "cell_type": "code",
   "execution_count": 34,
   "id": "0ad8ff36",
   "metadata": {},
   "outputs": [
    {
     "name": "stdout",
     "output_type": "stream",
     "text": [
      "[[0 1]\n",
      " [1 0]]\n"
     ]
    }
   ],
   "source": [
    "import numpy as np\n",
    "# Tính ma trận A:\n",
    "A = np.array([ [0,1], [1,0]])\n",
    "print(A) "
   ]
  },
  {
   "cell_type": "code",
   "execution_count": null,
   "id": "09e253b5",
   "metadata": {},
   "outputs": [
    {
     "name": "stdout",
     "output_type": "stream",
     "text": [
      "[[1 0]\n",
      " [0 1]]\n"
     ]
    }
   ],
   "source": [
    "temp = A.dot(A)\n",
    "print(temp) "
   ]
  },
  {
   "cell_type": "code",
   "execution_count": 36,
   "id": "c55f9c2c",
   "metadata": {},
   "outputs": [
    {
     "name": "stdout",
     "output_type": "stream",
     "text": [
      "[[0 1]\n",
      " [1 0]]\n",
      "---\n",
      "[[1 0]\n",
      " [0 1]]\n",
      "---\n",
      "[[0 1]\n",
      " [1 0]]\n",
      "---\n",
      "[[1 0]\n",
      " [0 1]]\n",
      "---\n",
      "[[0 1]\n",
      " [1 0]]\n",
      "---\n"
     ]
    }
   ],
   "source": [
    "k= 6\n",
    "for i in range(k-1):\n",
    "   temp = temp.dot(A)\n",
    "   print (temp)\n",
    "   print('---')"
   ]
  },
  {
   "cell_type": "code",
   "execution_count": 37,
   "id": "8ef2b16c",
   "metadata": {},
   "outputs": [
    {
     "name": "stdout",
     "output_type": "stream",
     "text": [
      "[[ 0 -1]\n",
      " [-1  0]]\n"
     ]
    }
   ],
   "source": [
    "# Tính ma trận B:\n",
    "B = np.array([ [0,-1], [-1,0]])\n",
    "print(B)"
   ]
  },
  {
   "cell_type": "code",
   "execution_count": 38,
   "id": "c8daf9d4",
   "metadata": {},
   "outputs": [
    {
     "name": "stdout",
     "output_type": "stream",
     "text": [
      "[[1 0]\n",
      " [0 1]]\n"
     ]
    }
   ],
   "source": [
    "temp = B.dot(B)\n",
    "print(temp) "
   ]
  },
  {
   "cell_type": "code",
   "execution_count": 39,
   "id": "31db606a",
   "metadata": {},
   "outputs": [
    {
     "name": "stdout",
     "output_type": "stream",
     "text": [
      "[[ 0 -1]\n",
      " [-1  0]]\n",
      "---\n",
      "[[1 0]\n",
      " [0 1]]\n",
      "---\n",
      "[[ 0 -1]\n",
      " [-1  0]]\n",
      "---\n",
      "[[1 0]\n",
      " [0 1]]\n",
      "---\n"
     ]
    }
   ],
   "source": [
    "k= 5\n",
    "for i in range(k-1):\n",
    "   temp = temp.dot(B)\n",
    "   print (temp)\n",
    "   print('---') "
   ]
  },
  {
   "cell_type": "markdown",
   "id": "04033221",
   "metadata": {},
   "source": [
    "- Ma trận hội tụ - Convergent matrix: "
   ]
  },
  {
   "cell_type": "code",
   "execution_count": 5,
   "id": "dd5ff4e9",
   "metadata": {},
   "outputs": [
    {
     "name": "stdout",
     "output_type": "stream",
     "text": [
      "[[1.  0.  0. ]\n",
      " [0.  0.5 1. ]\n",
      " [0.  0.  0.5]]\n"
     ]
    }
   ],
   "source": [
    "import numpy as np \n",
    "C = np.array([ [1, 0, 0], [0, 0.5, 1], [0, 0, 0.5] ])\n",
    "print(C) \n"
   ]
  },
  {
   "cell_type": "code",
   "execution_count": 6,
   "id": "b3f05f19",
   "metadata": {},
   "outputs": [
    {
     "name": "stdout",
     "output_type": "stream",
     "text": [
      "[[1.   0.   0.  ]\n",
      " [0.   0.25 1.  ]\n",
      " [0.   0.   0.25]]\n"
     ]
    }
   ],
   "source": [
    "temp = C.dot(C)\n",
    "print(temp) "
   ]
  },
  {
   "cell_type": "code",
   "execution_count": 42,
   "id": "1d676fec",
   "metadata": {},
   "outputs": [
    {
     "name": "stdout",
     "output_type": "stream",
     "text": [
      "[[1.00000000e+000 0.00000000e+000 0.00000000e+000]\n",
      " [0.00000000e+000 4.66631809e-302 9.34196882e-299]\n",
      " [0.00000000e+000 0.00000000e+000 4.66631809e-302]]\n"
     ]
    }
   ],
   "source": [
    "k= 1000\n",
    "for i in range(k-1):\n",
    "    temp = temp.dot(C)\n",
    "print(temp) "
   ]
  },
  {
   "cell_type": "code",
   "execution_count": 43,
   "id": "76eda3bb",
   "metadata": {},
   "outputs": [
    {
     "name": "stdout",
     "output_type": "stream",
     "text": [
      "[[1. 0. 0.]\n",
      " [0. 0. 0.]\n",
      " [0. 0. 0.]]\n"
     ]
    }
   ],
   "source": [
    "# Sau đó, thực hiện thêm 1 lần tích 1000 lần nữa:\n",
    "k= 1000\n",
    "for i in range(k-1):\n",
    "    temp = temp.dot(C)\n",
    "print(temp)"
   ]
  },
  {
   "cell_type": "markdown",
   "id": "eaf3f770",
   "metadata": {},
   "source": [
    "##### 2.4. Ma trận Markov"
   ]
  },
  {
   "cell_type": "code",
   "execution_count": 45,
   "id": "fbea85a3",
   "metadata": {},
   "outputs": [
    {
     "name": "stdout",
     "output_type": "stream",
     "text": [
      "[[0.7  0.45]\n",
      " [0.3  0.55]]\n"
     ]
    }
   ],
   "source": [
    "M = np.array([ [0.8, 0.3], [0.2, 0.7]])\n",
    "MM = M.dot(M) # tính M2, nghĩa là M2\n",
    "print(MM) "
   ]
  },
  {
   "cell_type": "code",
   "execution_count": 46,
   "id": "1799c8c6",
   "metadata": {},
   "outputs": [
    {
     "name": "stdout",
     "output_type": "stream",
     "text": [
      "[[0.7  0.45]\n",
      " [0.3  0.55]]\n"
     ]
    }
   ],
   "source": [
    "MM = M.dot(M) # tính M3\n",
    "print (MM) "
   ]
  },
  {
   "cell_type": "code",
   "execution_count": 47,
   "id": "34002a50",
   "metadata": {},
   "outputs": [
    {
     "name": "stdout",
     "output_type": "stream",
     "text": [
      "[[0.6 0.6]\n",
      " [0.4 0.4]]\n"
     ]
    }
   ],
   "source": [
    "for i in range(100): # tính các M^ khác\n",
    "    MM = MM.dot(M)\n",
    "print(MM)"
   ]
  },
  {
   "cell_type": "markdown",
   "id": "4da3d416",
   "metadata": {},
   "source": [
    "### 3. Phương trình ma trận"
   ]
  },
  {
   "cell_type": "markdown",
   "id": "54f48edb",
   "metadata": {},
   "source": [
    "##### 3.2. Phân rã ma trận LU "
   ]
  },
  {
   "cell_type": "code",
   "execution_count": 11,
   "id": "38750c1f",
   "metadata": {},
   "outputs": [
    {
     "name": "stdout",
     "output_type": "stream",
     "text": [
      "[[1. 0.]\n",
      " [0. 1.]]\n"
     ]
    }
   ],
   "source": [
    "import numpy as np\n",
    "from scipy import linalg\n",
    "M = np.array([ [0.8, 0.3], [0.2, 0.7]])\n",
    "P, L, U = linalg.lu(M) # lệnh lina.lu sẽ tách ma trận M thành 3 ma trận P, L và U\n",
    "print (P)"
   ]
  },
  {
   "cell_type": "code",
   "execution_count": 50,
   "id": "9398f083",
   "metadata": {},
   "outputs": [
    {
     "name": "stdout",
     "output_type": "stream",
     "text": [
      "[[1.   0.  ]\n",
      " [0.25 1.  ]]\n"
     ]
    }
   ],
   "source": [
    "print(L)"
   ]
  },
  {
   "cell_type": "code",
   "execution_count": 52,
   "id": "c41feece",
   "metadata": {},
   "outputs": [
    {
     "name": "stdout",
     "output_type": "stream",
     "text": [
      "[[0.8   0.3  ]\n",
      " [0.    0.625]]\n"
     ]
    }
   ],
   "source": [
    "print(U)"
   ]
  },
  {
   "cell_type": "code",
   "execution_count": 53,
   "id": "493d611a",
   "metadata": {},
   "outputs": [
    {
     "data": {
      "text/plain": [
       "array([[0.8, 0.3],\n",
       "       [0.2, 0.7]])"
      ]
     },
     "execution_count": 53,
     "metadata": {},
     "output_type": "execute_result"
    }
   ],
   "source": [
    "# Thử lại với phép nhân LU có bằng ma trận M ban đầu hay không:\n",
    "L.dot(U) "
   ]
  },
  {
   "cell_type": "markdown",
   "id": "0a799c7d",
   "metadata": {},
   "source": [
    "### 5. Bài toán ứng dụng 2 – Bài toán loan tin "
   ]
  },
  {
   "cell_type": "code",
   "execution_count": 54,
   "id": "c032612e",
   "metadata": {},
   "outputs": [
    {
     "name": "stdout",
     "output_type": "stream",
     "text": [
      "[[1 1 1 0]\n",
      " [1 0 0 1]\n",
      " [1 2 0 1]\n",
      " [0 1 1 1]]\n"
     ]
    }
   ],
   "source": [
    "A = np.array([ [0,1,0,1],[0,0,1,0],[1,0,0,1],[1,1,0,0]])\n",
    "temp = A.dot(A)\n",
    "print(temp)"
   ]
  },
  {
   "cell_type": "code",
   "execution_count": 55,
   "id": "b934f0f3",
   "metadata": {},
   "outputs": [
    {
     "name": "stdout",
     "output_type": "stream",
     "text": [
      "[[1 1 1 2]\n",
      " [1 2 0 1]\n",
      " [1 2 2 1]\n",
      " [2 1 1 1]]\n"
     ]
    }
   ],
   "source": [
    "temp = temp.dot(A)\n",
    "print(temp) "
   ]
  },
  {
   "cell_type": "code",
   "execution_count": 59,
   "id": "07e94b33",
   "metadata": {},
   "outputs": [
    {
     "name": "stdout",
     "output_type": "stream",
     "text": [
      "[[1 1 1 2]\n",
      " [1 2 0 1]\n",
      " [1 2 2 1]\n",
      " [2 1 1 1]]\n"
     ]
    }
   ],
   "source": [
    "# Sinh viên thực hành tính tổng các ∑ A^i:\n",
    "A = np.array([ [0,1,0,1],[0,0,1,0],[1,0,0,1],[1,1,0,0]])\n",
    "sumA = A\n",
    "temp = A.dot(A)\n",
    "k = 3\n",
    "sumA = sumA + temp\n",
    "for i in range(1, k-1):\n",
    "    temp = temp.dot(A)\n",
    "    sumA = sumA + temp\n",
    "print(temp)"
   ]
  },
  {
   "cell_type": "code",
   "execution_count": 60,
   "id": "7941776c",
   "metadata": {},
   "outputs": [
    {
     "name": "stdout",
     "output_type": "stream",
     "text": [
      "[[2 3 2 3]\n",
      " [2 2 1 2]\n",
      " [3 4 2 3]\n",
      " [3 3 2 2]]\n"
     ]
    }
   ],
   "source": [
    "print(sumA)"
   ]
  }
 ],
 "metadata": {
  "kernelspec": {
   "display_name": "Python 3",
   "language": "python",
   "name": "python3"
  },
  "language_info": {
   "codemirror_mode": {
    "name": "ipython",
    "version": 3
   },
   "file_extension": ".py",
   "mimetype": "text/x-python",
   "name": "python",
   "nbconvert_exporter": "python",
   "pygments_lexer": "ipython3",
   "version": "3.11.0"
  }
 },
 "nbformat": 4,
 "nbformat_minor": 5
}
