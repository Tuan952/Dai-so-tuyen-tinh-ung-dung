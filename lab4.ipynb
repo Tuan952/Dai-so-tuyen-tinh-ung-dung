{
 "cells": [
  {
   "cell_type": "markdown",
   "id": "325b3c35",
   "metadata": {},
   "source": [
    "# CHƯƠNG 4: CƠ BẢN VỀ ĐỊNH THỨC "
   ]
  },
  {
   "cell_type": "markdown",
   "id": "7662ff8b",
   "metadata": {},
   "source": [
    "### 1. Định thức và các tính chất"
   ]
  },
  {
   "cell_type": "markdown",
   "id": "2674503d",
   "metadata": {},
   "source": [
    "- Phép thế của một tập hợp hữu hạn: "
   ]
  },
  {
   "cell_type": "code",
   "execution_count": 5,
   "id": "cb1ddb05",
   "metadata": {},
   "outputs": [
    {
     "data": {
      "text/plain": [
       "-1"
      ]
     },
     "execution_count": 5,
     "metadata": {},
     "output_type": "execute_result"
    }
   ],
   "source": [
    "import numpy as np\n",
    "n = 4\n",
    "X = np.array(range(1,n+1))\n",
    "sigma = np.array([4,3,2,1])\n",
    "def sgn_by_def(sigma):\n",
    "    ket_qua = 1.0\n",
    "    for i in range(len(X)-1):\n",
    "        for j in range(i+1, len(X)):\n",
    "                ket_qua = ket_qua * ((X[i]-X[j])/(sigma[i]-sigma[j]))\n",
    "    return int(ket_qua)\n",
    "sigma = np.array([2,1,3,4])\n",
    "sgn_by_def(sigma)"
   ]
  },
  {
   "cell_type": "code",
   "execution_count": 7,
   "id": "b38c6dd3",
   "metadata": {},
   "outputs": [
    {
     "data": {
      "text/plain": [
       "1"
      ]
     },
     "execution_count": 7,
     "metadata": {},
     "output_type": "execute_result"
    }
   ],
   "source": [
    "sigma = np.array([1,2,3,4])\n",
    "sgn_by_def(sigma) "
   ]
  },
  {
   "cell_type": "code",
   "execution_count": null,
   "id": "cd9cb010",
   "metadata": {},
   "outputs": [
    {
     "data": {
      "text/plain": [
       "1"
      ]
     },
     "execution_count": 8,
     "metadata": {},
     "output_type": "execute_result"
    }
   ],
   "source": [
    "sigma = np.array([4,3,2,1])\n",
    "sgn_by_def(sigma) "
   ]
  },
  {
   "cell_type": "markdown",
   "id": "b378169f",
   "metadata": {},
   "source": [
    "- Định thức:\n",
    "***Sinh viên thực hành đoạn mã minh họa tính toán định thức của một ma trận theo định nghĩa***"
   ]
  },
  {
   "cell_type": "markdown",
   "id": "30e71876",
   "metadata": {},
   "source": [
    "```Bước 1```"
   ]
  },
  {
   "cell_type": "code",
   "execution_count": 9,
   "id": "bd65ed4a",
   "metadata": {},
   "outputs": [
    {
     "name": "stdout",
     "output_type": "stream",
     "text": [
      "[(1, 2, 3), (1, 3, 2), (2, 1, 3), (2, 3, 1), (3, 1, 2), (3, 2, 1)]\n"
     ]
    }
   ],
   "source": [
    "from itertools import permutations\n",
    "n = 3\n",
    "X = []\n",
    "for i in range (1, n+1):\n",
    "    X.append(i)\n",
    "Sn = list(permutations(X)) # tạo hoán vị của tập X\n",
    "print (Sn) "
   ]
  },
  {
   "cell_type": "markdown",
   "id": "403ee580",
   "metadata": {},
   "source": [
    "```Bước 2```"
   ]
  },
  {
   "cell_type": "code",
   "execution_count": 11,
   "id": "0c199dbf",
   "metadata": {},
   "outputs": [],
   "source": [
    "det = 0 \n",
    "# bước này có duy nhất 1 lệnh, \n",
    "# có ý nghĩa khởi tạo giá trị ban đầu của định thức. "
   ]
  },
  {
   "cell_type": "markdown",
   "id": "d73a74a9",
   "metadata": {},
   "source": [
    "```Bước 3```"
   ]
  },
  {
   "cell_type": "code",
   "execution_count": 27,
   "id": "78183eac",
   "metadata": {},
   "outputs": [
    {
     "name": "stdout",
     "output_type": "stream",
     "text": [
      " + a11a22 - a12a21\n"
     ]
    }
   ],
   "source": [
    "from itertools import permutations\n",
    "import numpy as np\n",
    "\n",
    "def sgn_by_def(sigma):\n",
    "    count = 0\n",
    "    n = len(sigma)\n",
    "    for i in range(n):\n",
    "        for j in range(i + 1, n):\n",
    "            if sigma[i] > sigma[j]:\n",
    "                count += 1\n",
    "    return -1 if count % 2 == 1 else 1\n",
    "\n",
    "def phatsinh_dinhthuc(n):\n",
    "    X = []\n",
    "    for i in range(1, n + 1):\n",
    "        X.append(i)\n",
    "    Sn = list(permutations(X))\n",
    "    dinhthuc = \"\"\n",
    "    for sn in Sn:\n",
    "        sigma = np.array([1])\n",
    "        sigma.resize([n])\n",
    "        product = \"\"\n",
    "        for i in range(1, n + 1):\n",
    "            sigma[sn.index(i)] = i\n",
    "            product += \"a\" + str(i) + str(sn.index(i) + 1)\n",
    "        dau = sgn_by_def(sigma)\n",
    "        if dau != 1:\n",
    "            product = \" - \" + product\n",
    "        else:\n",
    "            product = \" + \" + product\n",
    "        dinhthuc += product\n",
    "    return dinhthuc\n",
    "\n",
    "print(phatsinh_dinhthuc(2))\n"
   ]
  },
  {
   "cell_type": "code",
   "execution_count": 28,
   "id": "6212f953",
   "metadata": {},
   "outputs": [
    {
     "name": "stdout",
     "output_type": "stream",
     "text": [
      " + a11a22a33 - a11a23a32 - a12a21a33 + a13a21a32 + a12a23a31 - a13a22a31\n"
     ]
    }
   ],
   "source": [
    "print(phatsinh_dinhthuc(3))"
   ]
  },
  {
   "cell_type": "code",
   "execution_count": 33,
   "id": "589d6bc1",
   "metadata": {},
   "outputs": [
    {
     "name": "stdout",
     "output_type": "stream",
     "text": [
      "85\n"
     ]
    }
   ],
   "source": [
    "import numpy as np\n",
    "from itertools import permutations\n",
    "import math\n",
    "\n",
    "def sgn_by_def(sigma):\n",
    "    count = 0\n",
    "    n = len(sigma)\n",
    "    for i in range(n):\n",
    "        for j in range(i + 1, n):\n",
    "            if sigma[i] > sigma[j]:\n",
    "                count += 1\n",
    "    return -1 if count % 2 == 1 else 1\n",
    "\n",
    "def tinh_toan_dinhthuc(A):\n",
    "    X = []\n",
    "    n = int(math.sqrt(A.size))  # kích thước ma trận n x n\n",
    "    for i in range(1, n + 1):\n",
    "        X.append(i)\n",
    "    Sn = list(permutations(X))\n",
    "    dinhthuc = 0\n",
    "    for sn in Sn:\n",
    "        sigma = np.array([1])\n",
    "        sigma.resize([n])\n",
    "        product = 1\n",
    "        for i in range(1, n + 1):\n",
    "            sigma[sn.index(i)] = i\n",
    "            product *= A[i - 1][sn.index(i)]  # phần tử a_ij tương ứng\n",
    "        dau = sgn_by_def(sigma)\n",
    "        if dau != 1:\n",
    "            product *= -1\n",
    "        dinhthuc += product\n",
    "    return dinhthuc\n",
    "\n",
    "A = np.array([\n",
    "    [3, 5, -8],\n",
    "    [4, 12, -1],\n",
    "    [2, 5, 3]\n",
    "])\n",
    "\n",
    "print(tinh_toan_dinhthuc(A))"
   ]
  },
  {
   "cell_type": "markdown",
   "id": "21f611d7",
   "metadata": {},
   "source": [
    "### 3. Quy tắc Cramer "
   ]
  },
  {
   "cell_type": "markdown",
   "id": "6aafba3b",
   "metadata": {},
   "source": [
    "- Hệ hai phương trình tuyến tính bậc 1:"
   ]
  },
  {
   "cell_type": "code",
   "execution_count": 34,
   "id": "7dac368f",
   "metadata": {},
   "outputs": [
    {
     "name": "stdout",
     "output_type": "stream",
     "text": [
      "-14.0 -28.0 14.000000000000004\n"
     ]
    }
   ],
   "source": [
    "import numpy as np\n",
    "A = np.array([[4, -2],[3, -5]]) # khai báo ma trận A\n",
    "A1 = np.array([[10, -2],[11, -5]])\n",
    "A2 = np.array([[4, 10],[3, 11]])\n",
    "from scipy import linalg # lưu ý: hàm tính định thức của ma trận là scipy.linalg.det(A)\n",
    "detA = linalg.det(A) # tính định thức cho ma trận A\n",
    "detA1 = linalg.det(A1)\n",
    "detA2 = linalg.det(A2)\n",
    "print (detA, detA1, detA2) "
   ]
  },
  {
   "cell_type": "code",
   "execution_count": 35,
   "id": "90d5f388",
   "metadata": {},
   "outputs": [
    {
     "name": "stdout",
     "output_type": "stream",
     "text": [
      "Hai nghiệm của phương trình là:  2.0 -1.0000000000000002\n"
     ]
    }
   ],
   "source": [
    "if (detA != 0):\n",
    "    x1 = detA1 / detA\n",
    "    x2 = detA2 / detA\n",
    "print (\"Hai nghiệm của phương trình là: \", x1, x2) "
   ]
  },
  {
   "cell_type": "code",
   "execution_count": 36,
   "id": "90358094",
   "metadata": {},
   "outputs": [
    {
     "data": {
      "text/plain": [
       "-14"
      ]
     },
     "execution_count": 36,
     "metadata": {},
     "output_type": "execute_result"
    }
   ],
   "source": [
    "tinh_toan_dinhthuc(A)"
   ]
  },
  {
   "cell_type": "code",
   "execution_count": 37,
   "id": "28cdb518",
   "metadata": {},
   "outputs": [
    {
     "data": {
      "text/plain": [
       "-28"
      ]
     },
     "execution_count": 37,
     "metadata": {},
     "output_type": "execute_result"
    }
   ],
   "source": [
    "tinh_toan_dinhthuc(A1)"
   ]
  },
  {
   "cell_type": "code",
   "execution_count": 38,
   "id": "5c7ea60a",
   "metadata": {},
   "outputs": [
    {
     "data": {
      "text/plain": [
       "14"
      ]
     },
     "execution_count": 38,
     "metadata": {},
     "output_type": "execute_result"
    }
   ],
   "source": [
    "tinh_toan_dinhthuc(A2)"
   ]
  },
  {
   "cell_type": "markdown",
   "id": "8442b91b",
   "metadata": {},
   "source": [
    "- Hệ ba phương trình tuyến tính bậc 1: "
   ]
  },
  {
   "cell_type": "code",
   "execution_count": 39,
   "id": "dc0dfc87",
   "metadata": {},
   "outputs": [],
   "source": [
    "import numpy as np\n",
    "from scipy.linalg import det\n",
    "\n",
    "A = np.array([[-1, 2, -3],[ 2, 2,  1],[ 3, -4, 4]])\n",
    "\n",
    "B = np.array([1, 3, 2])\n"
   ]
  },
  {
   "cell_type": "code",
   "execution_count": 40,
   "id": "4e847422",
   "metadata": {},
   "outputs": [
    {
     "name": "stdout",
     "output_type": "stream",
     "text": [
      "Nghiệm theo phương pháp 1:  x = 1.9999999999999996 , y = 0.0 , z = -1.0\n"
     ]
    }
   ],
   "source": [
    "detA = det(A)\n",
    "\n",
    "A1 = A.copy()\n",
    "A1[:,0] = B\n",
    "detX = det(A1)\n",
    "\n",
    "A2 = A.copy()\n",
    "A2[:,1] = B\n",
    "detY = det(A2)\n",
    "\n",
    "A3 = A.copy()\n",
    "A3[:,2] = B\n",
    "detZ = det(A3)\n",
    "\n",
    "x = detX / detA\n",
    "y = detY / detA\n",
    "z = detZ / detA\n",
    "\n",
    "print(\"Nghiệm theo phương pháp 1: \", \"x =\", x, \", y =\", y, \", z =\", z)\n"
   ]
  },
  {
   "cell_type": "code",
   "execution_count": 41,
   "id": "1259e287",
   "metadata": {},
   "outputs": [
    {
     "name": "stdout",
     "output_type": "stream",
     "text": [
      "Nghiệm theo phương pháp 2:  x = 2.0 , y = 0.0 , z = -1.0\n"
     ]
    }
   ],
   "source": [
    "# Sử dụng lại hàm tinhtoan_dinhthuc đã định nghĩa trước đó\n",
    "\n",
    "detA = tinh_toan_dinhthuc(A)\n",
    "\n",
    "A1 = A.copy()\n",
    "A1[:,0] = B\n",
    "detX = tinh_toan_dinhthuc(A1)\n",
    "\n",
    "A2 = A.copy()\n",
    "A2[:,1] = B\n",
    "detY = tinh_toan_dinhthuc(A2)\n",
    "\n",
    "A3 = A.copy()\n",
    "A3[:,2] = B\n",
    "detZ = tinh_toan_dinhthuc(A3)\n",
    "\n",
    "x = detX / detA\n",
    "y = detY / detA\n",
    "z = detZ / detA\n",
    "\n",
    "print(\"Nghiệm theo phương pháp 2: \", \"x =\", x, \", y =\", y, \", z =\", z)\n"
   ]
  },
  {
   "cell_type": "markdown",
   "id": "a2ecad67",
   "metadata": {},
   "source": [
    "### 4. Bài toán ứng dụng 1: Tính diện tích đa giác, thể tích và các phương trình đường, mặt."
   ]
  },
  {
   "cell_type": "markdown",
   "id": "7ce3b7fd",
   "metadata": {},
   "source": [
    "- Tính diện tích tam giác:"
   ]
  },
  {
   "cell_type": "code",
   "execution_count": 42,
   "id": "ab8c2400",
   "metadata": {},
   "outputs": [
    {
     "data": {
      "text/latex": [
       "$\\displaystyle 1.5$"
      ],
      "text/plain": [
       "1.50000000000000"
      ]
     },
     "execution_count": 42,
     "metadata": {},
     "output_type": "execute_result"
    }
   ],
   "source": [
    "import sympy as sp\n",
    "TG = sp.Matrix([[1, 0, 1],[4, 3, 1], [2, 2, 1]])\n",
    "1/2*TG.det() "
   ]
  },
  {
   "cell_type": "markdown",
   "id": "c696f741",
   "metadata": {},
   "source": [
    "- Ứng dụng 2: Mở rộng bài toán tính diện tích thành thể tích hình tứ diện:"
   ]
  },
  {
   "cell_type": "code",
   "execution_count": 45,
   "id": "df404330",
   "metadata": {},
   "outputs": [
    {
     "data": {
      "text/latex": [
       "$\\displaystyle -72$"
      ],
      "text/plain": [
       "-72"
      ]
     },
     "execution_count": 45,
     "metadata": {},
     "output_type": "execute_result"
    }
   ],
   "source": [
    "from sympy import Matrix\n",
    "M = Matrix([[0, 4, 1, 1], [4, 0, 0, 1], [3, 5, 2, 1], [2, 2,\n",
    "5, 1]])\n",
    "M.det()"
   ]
  },
  {
   "cell_type": "code",
   "execution_count": 46,
   "id": "be7121a0",
   "metadata": {},
   "outputs": [
    {
     "data": {
      "text/latex": [
       "$\\displaystyle -12.0$"
      ],
      "text/plain": [
       "-12.0000000000000"
      ]
     },
     "execution_count": 46,
     "metadata": {},
     "output_type": "execute_result"
    }
   ],
   "source": [
    "1/6*M.det()"
   ]
  },
  {
   "cell_type": "markdown",
   "id": "74732c1b",
   "metadata": {},
   "source": [
    "- Ứng dụng 3: Kiểm 4 điểm nằm trên một mặt phẳng trong không gian ba chiều"
   ]
  },
  {
   "cell_type": "code",
   "execution_count": 50,
   "id": "38cf0dba",
   "metadata": {},
   "outputs": [
    {
     "name": "stdout",
     "output_type": "stream",
     "text": [
      "4 điểm đồng phẳng? False\n"
     ]
    }
   ],
   "source": [
    "import numpy as np\n",
    "\n",
    "def kiem_tra_dong_phang(A, B, C, D):\n",
    "    AB = np.array(B) - np.array(A)\n",
    "    AC = np.array(C) - np.array(A)\n",
    "    AD = np.array(D) - np.array(A)\n",
    "\n",
    "    # Tích có hướng AC × AD\n",
    "    tich_co_huong = np.cross(AC, AD)\n",
    "\n",
    "    # Tích vô hướng AB · (AC × AD)\n",
    "    tich_vo_huong = np.dot(AB, tich_co_huong)\n",
    "\n",
    "    # Thể tích tứ diện\n",
    "    the_tich = abs(tich_vo_huong) / 6\n",
    "\n",
    "    # Kiểm tra\n",
    "    if np.isclose(the_tich, 0):\n",
    "        return True  # Đồng phẳng\n",
    "    else:\n",
    "        return False  # Không đồng phẳng\n",
    "\n",
    "# Ví dụ \n",
    "A = [0, 0, 1]\n",
    "B = [1, 0, 0]\n",
    "C = [0, 1, 0]\n",
    "D = [1, 1, 0] \n",
    "\n",
    "print(\"4 điểm đồng phẳng?\" , kiem_tra_dong_phang(A, B, C, D))\n"
   ]
  },
  {
   "cell_type": "markdown",
   "id": "468617ce",
   "metadata": {},
   "source": [
    "- Ứng dụng 4: Phương trình mặt phẳng"
   ]
  },
  {
   "cell_type": "code",
   "execution_count": 52,
   "id": "526f6514",
   "metadata": {},
   "outputs": [
    {
     "name": "stdout",
     "output_type": "stream",
     "text": [
      "Phương trình mặt phẳng là:\n",
      "Eq(-4*x + 3*y - 5*z - 3, 0)\n"
     ]
    }
   ],
   "source": [
    "from sympy import *\n",
    "\n",
    "# Khai báo các biến x, y, z\n",
    "x, y, z = symbols('x y z')\n",
    "\n",
    "MP = Matrix([\n",
    "    [x,  y,  z,  1],\n",
    "    [-1, 3,  2,  1],\n",
    "    [0,  1,  0,  1],\n",
    "    [-2, 0,  1,  1]\n",
    "])\n",
    "\n",
    "# Tính định thức\n",
    "phuong_trinh = MP.det()\n",
    "\n",
    "# Hiển thị phương trình mặt phẳng\n",
    "print(\"Phương trình mặt phẳng là:\")\n",
    "print(Eq(phuong_trinh, 0))\n"
   ]
  },
  {
   "cell_type": "markdown",
   "id": "81fb8bf1",
   "metadata": {},
   "source": [
    "# BÀI TẬP CHƯƠNG 4"
   ]
  },
  {
   "cell_type": "markdown",
   "id": "ec170467",
   "metadata": {},
   "source": [
    "- Bài 1"
   ]
  },
  {
   "cell_type": "code",
   "execution_count": 55,
   "id": "c69aed7b",
   "metadata": {},
   "outputs": [
    {
     "name": "stdout",
     "output_type": "stream",
     "text": [
      "Ma trận hệ số kép (Cofactor matrix):\n",
      "⎡-4  35   -28⎤\n",
      "⎢            ⎥\n",
      "⎢6   -12   6 ⎥\n",
      "⎢            ⎥\n",
      "⎣-2  -5    4 ⎦\n",
      "\n",
      "Ma trận liên hợp (Adjoint matrix):\n",
      "⎡-4    6   -2⎤\n",
      "⎢            ⎥\n",
      "⎢35   -12  -5⎥\n",
      "⎢            ⎥\n",
      "⎣-28   6   4 ⎦\n"
     ]
    }
   ],
   "source": [
    "from sympy import *\n",
    "\n",
    "A = Matrix([\n",
    "    [1, 2, 3],\n",
    "    [0, 4, 5],\n",
    "    [7, 8, 9]\n",
    "])\n",
    "\n",
    "cof_matrix = A.cofactor_matrix()\n",
    "print(\"Ma trận hệ số kép (Cofactor matrix):\")\n",
    "pprint(cof_matrix)\n",
    "\n",
    "adj_matrix = A.adjugate()\n",
    "print(\"\\nMa trận liên hợp (Adjoint matrix):\")\n",
    "pprint(adj_matrix)\n"
   ]
  },
  {
   "cell_type": "markdown",
   "id": "55be6919",
   "metadata": {},
   "source": [
    "- Bài 2"
   ]
  },
  {
   "cell_type": "code",
   "execution_count": 57,
   "id": "4ff2ca09",
   "metadata": {},
   "outputs": [
    {
     "name": "stdout",
     "output_type": "stream",
     "text": [
      "Phương trình đường tròn đi qua 3 điểm là:\n",
      "-10*x**2 + 60*x - 10*y**2 + 40*y - 80 = 0\n"
     ]
    }
   ],
   "source": [
    "from sympy import symbols, Matrix, simplify\n",
    "\n",
    "# Khai báo các biến\n",
    "x, y = symbols('x y')\n",
    "\n",
    "x1, y1 = 1, 1\n",
    "x2, y2 = 2, 4\n",
    "x3, y3 = 5, 3\n",
    "\n",
    "M = Matrix([\n",
    "    [x**2 + y**2, x, y, 1],\n",
    "    [x1**2 + y1**2, x1, y1, 1],\n",
    "    [x2**2 + y2**2, x2, y2, 1],\n",
    "    [x3**2 + y3**2, x3, y3, 1]\n",
    "])\n",
    "\n",
    "circle_equation = simplify(M.det())\n",
    "\n",
    "print(\"Phương trình đường tròn đi qua 3 điểm là:\")\n",
    "print(circle_equation, \"= 0\")\n"
   ]
  }
 ],
 "metadata": {
  "kernelspec": {
   "display_name": "Python 3",
   "language": "python",
   "name": "python3"
  },
  "language_info": {
   "codemirror_mode": {
    "name": "ipython",
    "version": 3
   },
   "file_extension": ".py",
   "mimetype": "text/x-python",
   "name": "python",
   "nbconvert_exporter": "python",
   "pygments_lexer": "ipython3",
   "version": "3.11.0"
  }
 },
 "nbformat": 4,
 "nbformat_minor": 5
}
