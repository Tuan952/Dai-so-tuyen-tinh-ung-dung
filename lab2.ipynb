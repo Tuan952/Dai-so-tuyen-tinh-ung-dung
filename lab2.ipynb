{
 "cells": [
  {
   "cell_type": "markdown",
   "id": "ea127444",
   "metadata": {},
   "source": [
    "# CHƯƠNG 2:  MA TRẬN VÀ HỆ PHƯƠNG TRÌNH TUYẾN TÍNH"
   ]
  },
  {
   "cell_type": "markdown",
   "id": "87076c8e",
   "metadata": {},
   "source": [
    "#### 1. Dẫn nhập – Một số hàm về xử lý vector với Python"
   ]
  },
  {
   "cell_type": "markdown",
   "id": "2b7206ed",
   "metadata": {},
   "source": [
    "- Hàm “scale” "
   ]
  },
  {
   "cell_type": "code",
   "execution_count": 1,
   "id": "1563cf04",
   "metadata": {},
   "outputs": [
    {
     "data": {
      "text/plain": [
       "[30, 50, 70]"
      ]
     },
     "execution_count": 1,
     "metadata": {},
     "output_type": "execute_result"
    }
   ],
   "source": [
    "def scale(a, v):\n",
    "    return [a*vi for vi in v]\n",
    "v = [3,5,7]\n",
    "scale(10, v)"
   ]
  },
  {
   "cell_type": "markdown",
   "id": "5d4fbcc1",
   "metadata": {},
   "source": [
    "- Hàm lấy tổng hai vector"
   ]
  },
  {
   "cell_type": "code",
   "execution_count": 2,
   "id": "e8a90f7a",
   "metadata": {},
   "outputs": [
    {
     "data": {
      "text/plain": [
       "[5, 9, 13]"
      ]
     },
     "execution_count": 2,
     "metadata": {},
     "output_type": "execute_result"
    }
   ],
   "source": [
    "def sumvector(v, w):\n",
    "    return [vi+wi for (vi, wi) in zip(v, w)]\n",
    "v = [3,5,7]\n",
    "w = [2,4,6]\n",
    "sumvector(v, w)"
   ]
  },
  {
   "cell_type": "markdown",
   "id": "fcad5600",
   "metadata": {},
   "source": [
    "- Hàm nhân 2 vector vô hướng"
   ]
  },
  {
   "cell_type": "code",
   "execution_count": 3,
   "id": "4655b217",
   "metadata": {},
   "outputs": [
    {
     "data": {
      "text/plain": [
       "68"
      ]
     },
     "execution_count": 3,
     "metadata": {},
     "output_type": "execute_result"
    }
   ],
   "source": [
    "def dotvector(v, w):\n",
    "    return sum([vi*wi for (vi, wi) in zip(v, w)])\n",
    "dotvector(v, w)"
   ]
  },
  {
   "cell_type": "markdown",
   "id": "ce880a61",
   "metadata": {},
   "source": [
    "- Hàm tính chiều dài một vector"
   ]
  },
  {
   "cell_type": "code",
   "execution_count": 4,
   "id": "681e8ab0",
   "metadata": {},
   "outputs": [
    {
     "data": {
      "text/plain": [
       "56"
      ]
     },
     "execution_count": 4,
     "metadata": {},
     "output_type": "execute_result"
    }
   ],
   "source": [
    "def lenvector(v):\n",
    "    return dotvector(v,v)\n",
    "lenvector(w) "
   ]
  },
  {
   "cell_type": "markdown",
   "id": "f37eab3d",
   "metadata": {},
   "source": [
    "#### 2. Bài toán ứng dụng 1 – Phân loại tuyến tính "
   ]
  },
  {
   "cell_type": "code",
   "execution_count": 6,
   "id": "f15945a1",
   "metadata": {},
   "outputs": [
    {
     "data": {
      "text/plain": [
       "array([-1,  1,  2, -3,  5, -4])"
      ]
     },
     "execution_count": 6,
     "metadata": {},
     "output_type": "execute_result"
    }
   ],
   "source": [
    "import numpy as np\n",
    "scores = np.array([-1, 1, 2, -3, 5, -4]) \n",
    "scores"
   ]
  },
  {
   "cell_type": "code",
   "execution_count": 7,
   "id": "34897e20",
   "metadata": {},
   "outputs": [
    {
     "data": {
      "text/plain": [
       "array([False,  True,  True, False,  True, False])"
      ]
     },
     "execution_count": 7,
     "metadata": {},
     "output_type": "execute_result"
    }
   ],
   "source": [
    "scores >= 0"
   ]
  },
  {
   "cell_type": "code",
   "execution_count": 8,
   "id": "63d5ddf5",
   "metadata": {},
   "outputs": [
    {
     "data": {
      "text/plain": [
       "array([ True, False, False,  True, False,  True])"
      ]
     },
     "execution_count": 8,
     "metadata": {},
     "output_type": "execute_result"
    }
   ],
   "source": [
    "scores < 0"
   ]
  },
  {
   "cell_type": "code",
   "execution_count": 10,
   "id": "836010f6",
   "metadata": {},
   "outputs": [
    {
     "data": {
      "text/plain": [
       "array(['so am', 'so duong', 'so duong', 'so am', 'so duong', 'so am'],\n",
       "      dtype='<U8')"
      ]
     },
     "execution_count": 10,
     "metadata": {},
     "output_type": "execute_result"
    }
   ],
   "source": [
    "np.select([scores >=0, scores < 0],['so duong', 'so am'])"
   ]
  },
  {
   "cell_type": "markdown",
   "id": "234ed493",
   "metadata": {},
   "source": [
    "Kết quả câu lệnh bên trên là phương cách phân loại dữ liệu, theo đó, lệnh select phân thành 2\n",
    "loại. Ví dụ dưới đây cho ta thấy lệnh np.select có thể phân loại thành 3 loại:"
   ]
  },
  {
   "cell_type": "code",
   "execution_count": 11,
   "id": "97864cb1",
   "metadata": {},
   "outputs": [
    {
     "data": {
      "text/plain": [
       "array(['so am', 'so duong', 'so duong', 'so 0', 'so am', 'so duong',\n",
       "       'so 0', 'so am'], dtype='<U8')"
      ]
     },
     "execution_count": 11,
     "metadata": {},
     "output_type": "execute_result"
    }
   ],
   "source": [
    "scores = np.array([-1, 1, 2, 0, -3, 5, 0, -4])\n",
    "np.select([scores >0, scores ==0, scores < 0],['so duong', 'so 0', 'so am']) "
   ]
  },
  {
   "cell_type": "markdown",
   "id": "516968d0",
   "metadata": {},
   "source": [
    "#### 3. Thực hành xử lý ma trận"
   ]
  },
  {
   "cell_type": "markdown",
   "id": "8044261e",
   "metadata": {},
   "source": [
    "##### 3.1. Cơ bản về xử lý ma trận"
   ]
  },
  {
   "cell_type": "markdown",
   "id": "ccbcd6c9",
   "metadata": {},
   "source": [
    "```Thực hành```: Sinh viên thực hiện ôn luyện các lệnh sau: "
   ]
  },
  {
   "cell_type": "code",
   "execution_count": 12,
   "id": "38a5a9d0",
   "metadata": {},
   "outputs": [
    {
     "name": "stdout",
     "output_type": "stream",
     "text": [
      "[[3 4]\n",
      " [5 6]]\n"
     ]
    }
   ],
   "source": [
    "import numpy as np\n",
    "from scipy import linalg, sparse\n",
    "\n",
    "D = np.mat([ [3,4], [5,6] ])\n",
    "print(D)"
   ]
  },
  {
   "cell_type": "code",
   "execution_count": 16,
   "id": "b06a13e3",
   "metadata": {},
   "outputs": [
    {
     "name": "stdout",
     "output_type": "stream",
     "text": [
      "[[0.7619708  0.72914213 0.09723843 0.82832406 0.48242643 0.76021062\n",
      "  0.96206838]\n",
      " [0.646637   0.68705656 0.45399331 0.21715203 0.62516662 0.12090179\n",
      "  0.40556584]\n",
      " [0.96743903 0.83039481 0.91620236 0.05448542 0.95709168 0.36180635\n",
      "  0.08966411]\n",
      " [0.28969101 0.7085536  0.96004107 0.91349556 0.26379591 0.15437255\n",
      "  0.66019877]\n",
      " [0.77861817 0.52901669 0.85656408 0.39797013 0.10189348 0.26800106\n",
      "  0.44060682]]\n"
     ]
    }
   ],
   "source": [
    "C = np.mat(np.random.random((5,7)))\n",
    "print(C)"
   ]
  },
  {
   "cell_type": "code",
   "execution_count": 18,
   "id": "4f8fa2d7",
   "metadata": {},
   "outputs": [
    {
     "name": "stdout",
     "output_type": "stream",
     "text": [
      "[[0.48861275 0.40324496]\n",
      " [0.67280677 0.17581448]]\n"
     ]
    }
   ],
   "source": [
    "A = np.mat(np.random.random((2,2)))\n",
    "print(A)"
   ]
  },
  {
   "cell_type": "code",
   "execution_count": 21,
   "id": "ef49a0c5",
   "metadata": {},
   "outputs": [
    {
     "name": "stdout",
     "output_type": "stream",
     "text": [
      "[[1.+5.j 0.+2.j 0.+3.j]\n",
      " [4.+0.j 5.+0.j 6.+0.j]]\n"
     ]
    }
   ],
   "source": [
    "b = np.array([(1+5j, 2j, 3j),(4, 5,\n",
    "6)])\n",
    "B = np.asmatrix(b)\n",
    "print(b)"
   ]
  },
  {
   "cell_type": "code",
   "execution_count": 22,
   "id": "2f38e6d7",
   "metadata": {},
   "outputs": [
    {
     "name": "stdout",
     "output_type": "stream",
     "text": [
      "[[1.+5.j 0.+2.j 0.+3.j]\n",
      " [4.+0.j 5.+0.j 6.+0.j]]\n"
     ]
    }
   ],
   "source": [
    "print(B)"
   ]
  },
  {
   "cell_type": "code",
   "execution_count": 23,
   "id": "b0e44b3c",
   "metadata": {},
   "outputs": [
    {
     "data": {
      "text/plain": [
       "matrix([[0.48861275, 0.67280677],\n",
       "        [0.40324496, 0.17581448]])"
      ]
     },
     "execution_count": 23,
     "metadata": {},
     "output_type": "execute_result"
    }
   ],
   "source": [
    "A.T"
   ]
  },
  {
   "cell_type": "code",
   "execution_count": 24,
   "id": "82c7d675",
   "metadata": {},
   "outputs": [
    {
     "data": {
      "text/plain": [
       "matrix([[-0.94829435,  2.17499108],\n",
       "        [ 3.6289324 , -2.63544117]])"
      ]
     },
     "execution_count": 24,
     "metadata": {},
     "output_type": "execute_result"
    }
   ],
   "source": [
    "A.I"
   ]
  },
  {
   "cell_type": "code",
   "execution_count": 25,
   "id": "3e4fd3e1",
   "metadata": {},
   "outputs": [
    {
     "data": {
      "text/plain": [
       "array([[-0.94829435,  2.17499108],\n",
       "       [ 3.6289324 , -2.63544117]])"
      ]
     },
     "execution_count": 25,
     "metadata": {},
     "output_type": "execute_result"
    }
   ],
   "source": [
    "linalg.inv(A)"
   ]
  },
  {
   "cell_type": "code",
   "execution_count": 27,
   "id": "0c8f6ea3",
   "metadata": {},
   "outputs": [
    {
     "name": "stdout",
     "output_type": "stream",
     "text": [
      "[[-1  0  0]\n",
      " [ 0 -2  0]\n",
      " [ 1  5 -2]]\n"
     ]
    }
   ],
   "source": [
    "M = np.array([[-1,3,2],[0,-\n",
    "2,1],[1,5,-2]])\n",
    "M_lower = np.tril(M)\n",
    "print(M_lower)"
   ]
  },
  {
   "cell_type": "code",
   "execution_count": 28,
   "id": "530e955e",
   "metadata": {},
   "outputs": [
    {
     "name": "stdout",
     "output_type": "stream",
     "text": [
      "[[-1  3  2]\n",
      " [ 0 -2  1]\n",
      " [ 0  0 -2]]\n"
     ]
    }
   ],
   "source": [
    "M = np.array([[-1,3,2],[0,-\n",
    "2,1],[1,5,-2]])\n",
    "M_upper = np.triu(M)\n",
    "print(M_upper)"
   ]
  },
  {
   "cell_type": "code",
   "execution_count": 29,
   "id": "05b5996e",
   "metadata": {},
   "outputs": [
    {
     "name": "stdout",
     "output_type": "stream",
     "text": [
      "[-1 -2 -2]\n"
     ]
    }
   ],
   "source": [
    "M = np.array([[-1,3,2],[0,-\n",
    "2,1],[1,5,-2]])\n",
    "v_diag = np.diag(M) #vector đường chéo \n",
    "print (v_diag) "
   ]
  },
  {
   "cell_type": "code",
   "execution_count": 30,
   "id": "1802b286",
   "metadata": {},
   "outputs": [
    {
     "name": "stdout",
     "output_type": "stream",
     "text": [
      "[[-1  0  0]\n",
      " [ 0 -2  0]\n",
      " [ 0  0 -2]]\n"
     ]
    }
   ],
   "source": [
    "M_diag = np.diag(v_diag)\n",
    "print (M_diag)"
   ]
  },
  {
   "cell_type": "markdown",
   "id": "8d08fc3d",
   "metadata": {},
   "source": [
    "**Thực hiện tính toán đơn giản trên ma trận**"
   ]
  },
  {
   "cell_type": "markdown",
   "id": "76129c46",
   "metadata": {},
   "source": [
    "**Bài tập dẫn nhập:** Hãy xác định x,y và z để 2 ma trận bằng nhau: "
   ]
  },
  {
   "cell_type": "code",
   "execution_count": 33,
   "id": "f5163147",
   "metadata": {},
   "outputs": [
    {
     "data": {
      "text/plain": [
       "[(2, 7, -1)]"
      ]
     },
     "execution_count": 33,
     "metadata": {},
     "output_type": "execute_result"
    }
   ],
   "source": [
    "import sympy as sp\n",
    "\n",
    "x = sp.Symbol('x')\n",
    "y = sp.Symbol('y')\n",
    "z = sp.Symbol('z')\n",
    "sp.solve([x*x+2-6, y-1-6, x+z-1, 2*x*x-8, z*z+4-5, y-z-8], [x, y, z])"
   ]
  },
  {
   "cell_type": "markdown",
   "id": "f3525d46",
   "metadata": {},
   "source": [
    "#### 3.2. Các phép biến đổi sơ cấp trên ma trận"
   ]
  },
  {
   "cell_type": "code",
   "execution_count": 34,
   "id": "8168b32b",
   "metadata": {},
   "outputs": [
    {
     "name": "stdout",
     "output_type": "stream",
     "text": [
      "[[ 0.  1.  2.  3.  4.  5.]\n",
      " [ 6.  7.  8.  9. 10. 11.]\n",
      " [12. 13. 14. 15. 16. 17.]\n",
      " [18. 19. 20. 21. 22. 23.]\n",
      " [24. 25. 26. 27. 28. 29.]\n",
      " [30. 31. 32. 33. 34. 35.]]\n"
     ]
    }
   ],
   "source": [
    "import numpy as np \n",
    "A = np.reshape(np.arange(36.0), (6,6))\n",
    "print(A)"
   ]
  },
  {
   "cell_type": "code",
   "execution_count": 35,
   "id": "96b3812b",
   "metadata": {},
   "outputs": [
    {
     "name": "stdout",
     "output_type": "stream",
     "text": [
      "[[1. 0. 0. 0. 0. 0.]\n",
      " [0. 1. 0. 0. 0. 0.]\n",
      " [0. 0. 1. 0. 0. 0.]\n",
      " [0. 0. 0. 1. 0. 0.]\n",
      " [0. 0. 0. 0. 1. 0.]\n",
      " [0. 0. 0. 0. 0. 1.]]\n"
     ]
    }
   ],
   "source": [
    "I6 = np.identity(6)\n",
    "print(I6)"
   ]
  },
  {
   "cell_type": "markdown",
   "id": "251766ba",
   "metadata": {},
   "source": [
    "Sau đó, xem lại kích thước của ma trận (số lượng phần tử) và in đường chéo của ma trận A: \n"
   ]
  },
  {
   "cell_type": "code",
   "execution_count": 36,
   "id": "06953c95",
   "metadata": {},
   "outputs": [
    {
     "data": {
      "text/plain": [
       "36"
      ]
     },
     "execution_count": 36,
     "metadata": {},
     "output_type": "execute_result"
    }
   ],
   "source": [
    "A.size"
   ]
  },
  {
   "cell_type": "code",
   "execution_count": 37,
   "id": "a5daa4a4",
   "metadata": {},
   "outputs": [
    {
     "data": {
      "text/plain": [
       "array([ 0.,  7., 14., 21., 28., 35.])"
      ]
     },
     "execution_count": 37,
     "metadata": {},
     "output_type": "execute_result"
    }
   ],
   "source": [
    "np.matrix.diagonal(A)"
   ]
  },
  {
   "cell_type": "markdown",
   "id": "dda2880d",
   "metadata": {},
   "source": [
    "Thành lập ma trận A  mới bằng công thức A = A + I"
   ]
  },
  {
   "cell_type": "code",
   "execution_count": 38,
   "id": "5bf0c5af",
   "metadata": {},
   "outputs": [
    {
     "name": "stdout",
     "output_type": "stream",
     "text": [
      "[[ 1.  1.  2.  3.  4.  5.]\n",
      " [ 6.  8.  8.  9. 10. 11.]\n",
      " [12. 13. 15. 15. 16. 17.]\n",
      " [18. 19. 20. 22. 22. 23.]\n",
      " [24. 25. 26. 27. 29. 29.]\n",
      " [30. 31. 32. 33. 34. 36.]]\n"
     ]
    }
   ],
   "source": [
    "A = A + I6\n",
    "print(A)"
   ]
  },
  {
   "cell_type": "markdown",
   "id": "9c2a718b",
   "metadata": {},
   "source": [
    "Tính tích (nhân) ma trận với vector (là dạng ma trận đặc biệt):"
   ]
  },
  {
   "cell_type": "code",
   "execution_count": 39,
   "id": "67afc2cf",
   "metadata": {},
   "outputs": [
    {
     "name": "stdout",
     "output_type": "stream",
     "text": [
      "[ 71. 198. 325. 452. 579. 706.]\n"
     ]
    }
   ],
   "source": [
    "vecB = np.array([1., 2., 3., 4., 5., 6.])\n",
    "C = A.dot(vecB)\n",
    "print(C) "
   ]
  },
  {
   "cell_type": "code",
   "execution_count": 40,
   "id": "12a5b9c9",
   "metadata": {},
   "outputs": [
    {
     "name": "stdout",
     "output_type": "stream",
     "text": [
      "[[1. 2. 3. 4. 5. 6.]\n",
      " [1. 0. 1. 0. 1. 0.]]\n"
     ]
    }
   ],
   "source": [
    "D = np.array([[1., 2., 3., 4., 5., 6.], [1., 0., 1., 0., 1., 0.]])\n",
    "print(D)"
   ]
  },
  {
   "cell_type": "markdown",
   "id": "bbaf7563",
   "metadata": {},
   "source": [
    "Tính tích ma trận A và D: A x D"
   ]
  },
  {
   "cell_type": "code",
   "execution_count": 51,
   "id": "76f51e19",
   "metadata": {},
   "outputs": [
    {
     "ename": "ValueError",
     "evalue": "shapes (6,6) and (2,6) not aligned: 6 (dim 1) != 2 (dim 0)",
     "output_type": "error",
     "traceback": [
      "\u001b[1;31m---------------------------------------------------------------------------\u001b[0m",
      "\u001b[1;31mValueError\u001b[0m                                Traceback (most recent call last)",
      "Cell \u001b[1;32mIn[51], line 1\u001b[0m\n\u001b[1;32m----> 1\u001b[0m E \u001b[38;5;241m=\u001b[39m \u001b[43mA\u001b[49m\u001b[38;5;241;43m.\u001b[39;49m\u001b[43mdot\u001b[49m\u001b[43m(\u001b[49m\u001b[43mD\u001b[49m\u001b[43m)\u001b[49m \n",
      "\u001b[1;31mValueError\u001b[0m: shapes (6,6) and (2,6) not aligned: 6 (dim 1) != 2 (dim 0)"
     ]
    }
   ],
   "source": [
    "E = A.dot(D) "
   ]
  },
  {
   "cell_type": "code",
   "execution_count": 43,
   "id": "d685840d",
   "metadata": {},
   "outputs": [
    {
     "name": "stdout",
     "output_type": "stream",
     "text": [
      "[[1. 1.]\n",
      " [2. 0.]\n",
      " [3. 1.]\n",
      " [4. 0.]\n",
      " [5. 1.]\n",
      " [6. 0.]]\n"
     ]
    }
   ],
   "source": [
    "F = np.array([[1., 1.], [2., 0.], [3., 1.], [4., 0], [5., 1], [6., 0.]])\n",
    "G = A.dot(F)\n",
    "print(F)"
   ]
  },
  {
   "cell_type": "code",
   "execution_count": 52,
   "id": "55a137ff",
   "metadata": {},
   "outputs": [
    {
     "name": "stdout",
     "output_type": "stream",
     "text": [
      "[[ 71.   7.]\n",
      " [198.  24.]\n",
      " [325.  43.]\n",
      " [452.  60.]\n",
      " [579.  79.]\n",
      " [706.  96.]]\n"
     ]
    }
   ],
   "source": [
    "print(G)"
   ]
  },
  {
   "cell_type": "code",
   "execution_count": 53,
   "id": "697e7d44",
   "metadata": {},
   "outputs": [
    {
     "data": {
      "text/plain": [
       "array([[-0.17525773, -0.30412371, -0.18298969, -0.06185567,  0.05927835,\n",
       "         0.18041237],\n",
       "       [-0.27835052,  0.04639175, -0.12886598, -0.05412371,  0.02061856,\n",
       "         0.09536082],\n",
       "       [-0.1314433 , -0.10309278,  0.17525773, -0.04639175, -0.01804124,\n",
       "         0.01030928],\n",
       "       [ 0.01546392, -0.00257732, -0.02061856,  0.21134021, -0.05670103,\n",
       "        -0.07474227],\n",
       "       [ 0.16237113,  0.09793814,  0.03350515, -0.03092784,  0.15463918,\n",
       "        -0.15979381],\n",
       "       [ 0.30927835,  0.19845361,  0.08762887, -0.02319588, -0.13402062,\n",
       "         0.00515464]])"
      ]
     },
     "execution_count": 53,
     "metadata": {},
     "output_type": "execute_result"
    }
   ],
   "source": [
    "# Tính ma trận nghịch đảo:\n",
    "np.linalg.inv(A) "
   ]
  },
  {
   "cell_type": "code",
   "execution_count": 54,
   "id": "9a4f56ec",
   "metadata": {},
   "outputs": [
    {
     "data": {
      "text/plain": [
       "array([[ 4.,  1.,  2.,  3.,  4.,  5.],\n",
       "       [ 6., 11.,  8.,  9., 10., 11.],\n",
       "       [12., 13., 18., 15., 16., 17.],\n",
       "       [18., 19., 20., 25., 22., 23.],\n",
       "       [24., 25., 26., 27., 32., 29.],\n",
       "       [30., 31., 32., 33., 34., 39.]])"
      ]
     },
     "execution_count": 54,
     "metadata": {},
     "output_type": "execute_result"
    }
   ],
   "source": [
    "# Câu hỏi: Lệnh sau sẽ trả về kết quả gì?\n",
    "np.linalg.inv(np.linalg.inv(A))"
   ]
  },
  {
   "cell_type": "markdown",
   "id": "16d17885",
   "metadata": {},
   "source": [
    "#### 4. Bài toán ứng dụng 2 – Tính toán dãy Fibonacci: Con đường tìm đến tỉ số vàng!"
   ]
  },
  {
   "cell_type": "code",
   "execution_count": 57,
   "id": "5c9a60fd",
   "metadata": {},
   "outputs": [
    {
     "name": "stdout",
     "output_type": "stream",
     "text": [
      "[89 55]\n"
     ]
    }
   ],
   "source": [
    "import numpy as np\n",
    "A = np.array( [ [1,1], [1,0] ] )\n",
    "b = np.array([1, 0])\n",
    "n = 10\n",
    "for i in range(n):\n",
    "    b = A.dot(b)\n",
    "print(b) "
   ]
  },
  {
   "cell_type": "markdown",
   "id": "a70101b0",
   "metadata": {},
   "source": [
    "#### 5. Cơ bản về hệ phương trình tuyến tính và ứng dụng minh họa "
   ]
  },
  {
   "cell_type": "markdown",
   "id": "b501a716",
   "metadata": {},
   "source": [
    "##### 5.2. Bài toán ứng dụng 3 – Đếm số lượng xe vào khu vực trung tâm"
   ]
  },
  {
   "cell_type": "code",
   "execution_count": 58,
   "id": "c3514ae8",
   "metadata": {},
   "outputs": [
    {
     "data": {
      "text/plain": [
       "{x1: x4 + 160, x2: x4 - 80, x3: x4 + 520}"
      ]
     },
     "execution_count": 58,
     "metadata": {},
     "output_type": "execute_result"
    }
   ],
   "source": [
    "import sympy as sp\n",
    "from sympy import Symbol\n",
    "17\n",
    "x1 = Symbol('x1')\n",
    "x2 = Symbol('x2')\n",
    "x3 = Symbol('x3')\n",
    "x4 = Symbol('x4')\n",
    "from sympy import solve\n",
    "pt1 = x4+610-450-x1\n",
    "pt2 = x1+400-x2-640\n",
    "pt3 = x2+600-x3\n",
    "pt4 = x3-x4-520\n",
    "nghiem = sp.solve((pt1, pt2, pt3, pt4))\n",
    "nghiem"
   ]
  },
  {
   "cell_type": "code",
   "execution_count": 69,
   "id": "243330af",
   "metadata": {},
   "outputs": [],
   "source": [
    "# Bài tập: Sinh viên thử bằng phương pháp nhân ma trận:\n",
    "import numpy as np\n",
    "A = np.matrix([[-1,0,0,1],[1,-1,0,0],[0,1,-1,0],[0,0,1,-1]])"
   ]
  },
  {
   "cell_type": "code",
   "execution_count": null,
   "id": "7f26a009",
   "metadata": {},
   "outputs": [],
   "source": [
    "A_nghichdao = np.linalg.inv(A)"
   ]
  },
  {
   "cell_type": "markdown",
   "id": "0e020876",
   "metadata": {},
   "source": [
    "=> Các hàng không độc lập tuyến tính ⇒ Ma trận suy biến (không nghịch đảo được)."
   ]
  },
  {
   "cell_type": "markdown",
   "id": "77f9875e",
   "metadata": {},
   "source": [
    "# BÀI TẬP CHƯƠNG 2 "
   ]
  },
  {
   "cell_type": "markdown",
   "id": "99f29712",
   "metadata": {},
   "source": [
    "```Câu 1```"
   ]
  },
  {
   "cell_type": "markdown",
   "id": "891b3939",
   "metadata": {},
   "source": [
    "- Vấn đề 1 (Problem 1)"
   ]
  },
  {
   "cell_type": "code",
   "execution_count": 71,
   "id": "951a0e4a",
   "metadata": {},
   "outputs": [
    {
     "name": "stdout",
     "output_type": "stream",
     "text": [
      "Giao điểm: [0. 2.]\n"
     ]
    }
   ],
   "source": [
    "import numpy as np\n",
    "\n",
    "A = np.array([[1, -1],\n",
    "              [2,  3]])\n",
    "B = np.array([-2, 6])\n",
    "\n",
    "x = np.linalg.solve(A, B)\n",
    "print(\"Giao điểm:\", x)\n"
   ]
  },
  {
   "cell_type": "markdown",
   "id": "6bb725eb",
   "metadata": {},
   "source": [
    "- Vấn đề 2 (Problem 2)"
   ]
  },
  {
   "cell_type": "code",
   "execution_count": 72,
   "id": "e9bd8012",
   "metadata": {},
   "outputs": [
    {
     "name": "stdout",
     "output_type": "stream",
     "text": [
      "Giao điểm: [3. 1. 2.]\n"
     ]
    }
   ],
   "source": [
    "A = np.array([[ 1, -1,  0],\n",
    "              [ 2, -1, -1],\n",
    "              [ 1,  1,  1]])\n",
    "B = np.array([2, 3, 6])\n",
    "\n",
    "x = np.linalg.solve(A, B)\n",
    "print(\"Giao điểm:\", x)\n"
   ]
  },
  {
   "cell_type": "markdown",
   "id": "60c89825",
   "metadata": {},
   "source": [
    "- Vấn đề 3 (Problem 3)"
   ]
  },
  {
   "cell_type": "code",
   "execution_count": 73,
   "id": "82ff3dc2",
   "metadata": {},
   "outputs": [
    {
     "name": "stdout",
     "output_type": "stream",
     "text": [
      "Hệ số đa thức [a, b, c]: [0. 0. 4.]\n"
     ]
    }
   ],
   "source": [
    "A = np.array([[1, 1, 1],\n",
    "              [4, 2, 1],\n",
    "              [9, 3, 1]])\n",
    "B = np.array([4, 4, 4])\n",
    "\n",
    "x = np.linalg.solve(A, B)\n",
    "print(\"Hệ số đa thức [a, b, c]:\", x)\n"
   ]
  },
  {
   "cell_type": "markdown",
   "id": "6f582eaa",
   "metadata": {},
   "source": [
    "- Vấn đề 4 (Problem 4)"
   ]
  },
  {
   "cell_type": "code",
   "execution_count": 74,
   "id": "b543ac5e",
   "metadata": {},
   "outputs": [
    {
     "name": "stdout",
     "output_type": "stream",
     "text": [
      "Hệ số [a, b, c]: [-0.11111111 -0.66666667  1.11111111]\n"
     ]
    }
   ],
   "source": [
    "A = np.array([[1, 0, 1],\n",
    "              [1, 1, -2],\n",
    "              [-2, 2, 1]])\n",
    "B = np.array([1, -3, 0])\n",
    "\n",
    "x = np.linalg.solve(A, B)\n",
    "print(\"Hệ số [a, b, c]:\", x)\n"
   ]
  },
  {
   "cell_type": "markdown",
   "id": "d54c26ae",
   "metadata": {},
   "source": [
    "```Câu 2```"
   ]
  },
  {
   "cell_type": "code",
   "execution_count": 76,
   "id": "f14acd64",
   "metadata": {},
   "outputs": [
    {
     "name": "stdout",
     "output_type": "stream",
     "text": [
      "{x: 0, y: 2}\n"
     ]
    }
   ],
   "source": [
    "# Vấn đề 1\n",
    "x, y = sp.symbols('x y')\n",
    "\n",
    "eq1 = sp.Eq(x - y, -2)\n",
    "eq2 = sp.Eq(2*x + 3*y, 6)\n",
    "\n",
    "solution = sp.solve((eq1, eq2), (x, y))\n",
    "print(solution)\n"
   ]
  },
  {
   "cell_type": "code",
   "execution_count": 78,
   "id": "63022a65",
   "metadata": {},
   "outputs": [
    {
     "name": "stdout",
     "output_type": "stream",
     "text": [
      "{x: 3, y: 1, z: 2}\n"
     ]
    }
   ],
   "source": [
    "# Vấn đề 2\n",
    "x, y, z = sp.symbols('x y z')\n",
    "\n",
    "eq1 = sp.Eq(x - y, 2)\n",
    "eq2 = sp.Eq(2*x - y - z, 3)\n",
    "eq3 = sp.Eq(x + y + z, 6)\n",
    "\n",
    "solution = sp.solve((eq1, eq2, eq3), (x, y, z))\n",
    "print(solution)\n"
   ]
  },
  {
   "cell_type": "code",
   "execution_count": 79,
   "id": "a971dbf9",
   "metadata": {},
   "outputs": [
    {
     "name": "stdout",
     "output_type": "stream",
     "text": [
      "{a: 0, b: 0, c: 4}\n"
     ]
    }
   ],
   "source": [
    "# Vấn đề 3 \n",
    "a, b, c = sp.symbols('a b c')\n",
    "\n",
    "eq1 = sp.Eq(a + b + c, 4)       # p(1)\n",
    "eq2 = sp.Eq(4*a + 2*b + c, 4)   # p(2)\n",
    "eq3 = sp.Eq(9*a + 3*b + c, 4)   # p(3)\n",
    "\n",
    "solution = sp.solve((eq1, eq2, eq3), (a, b, c))\n",
    "print(solution)\n"
   ]
  },
  {
   "cell_type": "code",
   "execution_count": 80,
   "id": "a2c0f819",
   "metadata": {},
   "outputs": [
    {
     "name": "stdout",
     "output_type": "stream",
     "text": [
      "{a: -1/9, b: -2/3, c: 10/9}\n"
     ]
    }
   ],
   "source": [
    "# Vấn đề 4 \n",
    "a, b, c = sp.symbols('a b c')\n",
    "\n",
    "eq1 = sp.Eq(a + c, 1)\n",
    "eq2 = sp.Eq(a + b - 2*c, -3)\n",
    "eq3 = sp.Eq(-2*a + 2*b + c, 0)\n",
    "\n",
    "solution = sp.solve((eq1, eq2, eq3), (a, b, c))\n",
    "print(solution)\n"
   ]
  },
  {
   "cell_type": "markdown",
   "id": "2bf68a30",
   "metadata": {},
   "source": [
    "```Câu 3```"
   ]
  },
  {
   "cell_type": "code",
   "execution_count": 81,
   "id": "365415ca",
   "metadata": {},
   "outputs": [
    {
     "name": "stdout",
     "output_type": "stream",
     "text": [
      "F_5 =\n",
      "[[8 5]\n",
      " [5 3]]\n",
      "Fib(k+1) = 8\n",
      "Fib(k)   = 5\n",
      "Fib(k-1) = 3\n"
     ]
    }
   ],
   "source": [
    "import numpy as np\n",
    "\n",
    "def fibonacci_matrix(k):\n",
    "    F = np.array([[1, 1],\n",
    "                  [1, 0]], dtype=object)\n",
    "    result = np.linalg.matrix_power(F, k)\n",
    "    return result\n",
    "\n",
    "# Kiểm tra với k = 5 (F_5)\n",
    "k = 5\n",
    "Fk = fibonacci_matrix(k)\n",
    "print(\"F_{} =\\n{}\".format(k, Fk))\n",
    "\n",
    "# So sánh với Fibonacci thật\n",
    "def fib(n):\n",
    "    a, b = 0, 1\n",
    "    for _ in range(n):\n",
    "        a, b = b, a + b\n",
    "    return a\n",
    "\n",
    "print(\"Fib(k+1) =\", fib(k+1))\n",
    "print(\"Fib(k)   =\", fib(k))\n",
    "print(\"Fib(k-1) =\", fib(k-1))\n"
   ]
  }
 ],
 "metadata": {
  "kernelspec": {
   "display_name": "Python 3",
   "language": "python",
   "name": "python3"
  },
  "language_info": {
   "codemirror_mode": {
    "name": "ipython",
    "version": 3
   },
   "file_extension": ".py",
   "mimetype": "text/x-python",
   "name": "python",
   "nbconvert_exporter": "python",
   "pygments_lexer": "ipython3",
   "version": "3.11.0"
  }
 },
 "nbformat": 4,
 "nbformat_minor": 5
}
